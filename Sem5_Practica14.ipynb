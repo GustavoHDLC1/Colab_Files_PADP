{
  "nbformat": 4,
  "nbformat_minor": 0,
  "metadata": {
    "colab": {
      "provenance": [],
      "mount_file_id": "1UB0dYDDNAhMffh8tEXy6xeaqxZ2ekX7e",
      "authorship_tag": "ABX9TyOo50/dPmf4R7DLATrNwpHM",
      "include_colab_link": true
    },
    "kernelspec": {
      "name": "python3",
      "display_name": "Python 3"
    },
    "language_info": {
      "name": "python"
    }
  },
  "cells": [
    {
      "cell_type": "markdown",
      "metadata": {
        "id": "view-in-github",
        "colab_type": "text"
      },
      "source": [
        "<a href=\"https://colab.research.google.com/github/GustavoHDLC1/Colab_Files_PADP/blob/main/Sem5_Practica14.ipynb\" target=\"_parent\"><img src=\"https://colab.research.google.com/assets/colab-badge.svg\" alt=\"Open In Colab\"/></a>"
      ]
    },
    {
      "cell_type": "markdown",
      "source": [
        "# Práctica 14: Limpieza y Transformación de Datos Categóricos\n",
        "[Enlace GitHub](https://github.com/GustavoHDLC1/Colab_Files_PADP/blob/main/Sem5_Practica14.ipynb)"
      ],
      "metadata": {
        "id": "ky19TJ354StE"
      }
    },
    {
      "cell_type": "code",
      "execution_count": 1,
      "metadata": {
        "id": "vLevx6Kq2wVO"
      },
      "outputs": [],
      "source": [
        "import pandas as pd"
      ]
    },
    {
      "cell_type": "code",
      "source": [
        "df = pd.read_csv('/content/drive/MyDrive/MIAAD/PADP/nls97.csv')\n",
        "df"
      ],
      "metadata": {
        "colab": {
          "base_uri": "https://localhost:8080/",
          "height": 617
        },
        "id": "wHBmTJb34189",
        "outputId": "d603479c-ca35-4abf-e917-ee64e6fa85b8"
      },
      "execution_count": 2,
      "outputs": [
        {
          "output_type": "execute_result",
          "data": {
            "text/plain": [
              "      personid  gender  birthmonth  birthyear  highestgradecompleted  \\\n",
              "0       100061  Female           5       1980                   13.0   \n",
              "1       100139    Male           9       1983                   12.0   \n",
              "2       100284    Male          11       1984                    7.0   \n",
              "3       100292    Male           4       1982                    NaN   \n",
              "4       100583    Male           1       1980                   13.0   \n",
              "...        ...     ...         ...        ...                    ...   \n",
              "8979    999291  Female           4       1981                   16.0   \n",
              "8980    999406    Male           7       1982                   14.0   \n",
              "8981    999543  Female           8       1984                   12.0   \n",
              "8982    999698  Female           5       1983                   12.0   \n",
              "8983    999963  Female           9       1982                   17.0   \n",
              "\n",
              "      maritalstatus  childathome  childnotathome  wageincome  \\\n",
              "0           Married          4.0             0.0     12500.0   \n",
              "1           Married          2.0             0.0    120000.0   \n",
              "2     Never-married          1.0             0.0     58000.0   \n",
              "3               NaN          NaN             NaN         NaN   \n",
              "4           Married          4.0             0.0     30000.0   \n",
              "...             ...          ...             ...         ...   \n",
              "8979        Married          NaN             NaN     35000.0   \n",
              "8980  Never-married          NaN             NaN    116000.0   \n",
              "8981       Divorced          2.0             0.0         NaN   \n",
              "8982  Never-married          5.0             0.0         NaN   \n",
              "8983        Married          2.0             0.0     50000.0   \n",
              "\n",
              "            weeklyhrscomputer  ...      colenrfeb13      colenroct13  \\\n",
              "0     10 hours or more a week  ...  1. Not enrolled  1. Not enrolled   \n",
              "1         1 to 3 hours a week  ...  1. Not enrolled  1. Not enrolled   \n",
              "2                         NaN  ...  1. Not enrolled  1. Not enrolled   \n",
              "3                         NaN  ...  1. Not enrolled  1. Not enrolled   \n",
              "4     Less than 1 hour a week  ...  1. Not enrolled  1. Not enrolled   \n",
              "...                       ...  ...              ...              ...   \n",
              "8979      7 to 9 hours a week  ...  1. Not enrolled  1. Not enrolled   \n",
              "8980      4 to 6 hours a week  ...  1. Not enrolled  1. Not enrolled   \n",
              "8981                      NaN  ...  1. Not enrolled  1. Not enrolled   \n",
              "8982      4 to 6 hours a week  ...  1. Not enrolled  1. Not enrolled   \n",
              "8983      4 to 6 hours a week  ...  1. Not enrolled  1. Not enrolled   \n",
              "\n",
              "          colenrfeb14      colenroct14      colenrfeb15      colenroct15  \\\n",
              "0     1. Not enrolled  1. Not enrolled  1. Not enrolled  1. Not enrolled   \n",
              "1     1. Not enrolled  1. Not enrolled  1. Not enrolled  1. Not enrolled   \n",
              "2     1. Not enrolled  1. Not enrolled  1. Not enrolled  1. Not enrolled   \n",
              "3     1. Not enrolled  1. Not enrolled  1. Not enrolled  1. Not enrolled   \n",
              "4     1. Not enrolled  1. Not enrolled  1. Not enrolled  1. Not enrolled   \n",
              "...               ...              ...              ...              ...   \n",
              "8979  1. Not enrolled  1. Not enrolled  1. Not enrolled  1. Not enrolled   \n",
              "8980  1. Not enrolled  1. Not enrolled  1. Not enrolled  1. Not enrolled   \n",
              "8981  1. Not enrolled  1. Not enrolled  1. Not enrolled  1. Not enrolled   \n",
              "8982  1. Not enrolled  1. Not enrolled  1. Not enrolled  1. Not enrolled   \n",
              "8983  1. Not enrolled  1. Not enrolled  1. Not enrolled  1. Not enrolled   \n",
              "\n",
              "          colenrfeb16      colenroct16      colenrfeb17      colenroct17  \n",
              "0     1. Not enrolled  1. Not enrolled  1. Not enrolled  1. Not enrolled  \n",
              "1     1. Not enrolled  1. Not enrolled  1. Not enrolled  1. Not enrolled  \n",
              "2     1. Not enrolled  1. Not enrolled  1. Not enrolled  1. Not enrolled  \n",
              "3                 NaN              NaN              NaN              NaN  \n",
              "4     1. Not enrolled  1. Not enrolled  1. Not enrolled  1. Not enrolled  \n",
              "...               ...              ...              ...              ...  \n",
              "8979  1. Not enrolled  1. Not enrolled  1. Not enrolled  1. Not enrolled  \n",
              "8980  1. Not enrolled  1. Not enrolled  1. Not enrolled  1. Not enrolled  \n",
              "8981  1. Not enrolled  1. Not enrolled  1. Not enrolled  1. Not enrolled  \n",
              "8982  1. Not enrolled  1. Not enrolled  1. Not enrolled  1. Not enrolled  \n",
              "8983  1. Not enrolled  1. Not enrolled  1. Not enrolled  1. Not enrolled  \n",
              "\n",
              "[8984 rows x 89 columns]"
            ],
            "text/html": [
              "\n",
              "  <div id=\"df-b2e8e214-c870-47f1-b75b-f39caed733e7\" class=\"colab-df-container\">\n",
              "    <div>\n",
              "<style scoped>\n",
              "    .dataframe tbody tr th:only-of-type {\n",
              "        vertical-align: middle;\n",
              "    }\n",
              "\n",
              "    .dataframe tbody tr th {\n",
              "        vertical-align: top;\n",
              "    }\n",
              "\n",
              "    .dataframe thead th {\n",
              "        text-align: right;\n",
              "    }\n",
              "</style>\n",
              "<table border=\"1\" class=\"dataframe\">\n",
              "  <thead>\n",
              "    <tr style=\"text-align: right;\">\n",
              "      <th></th>\n",
              "      <th>personid</th>\n",
              "      <th>gender</th>\n",
              "      <th>birthmonth</th>\n",
              "      <th>birthyear</th>\n",
              "      <th>highestgradecompleted</th>\n",
              "      <th>maritalstatus</th>\n",
              "      <th>childathome</th>\n",
              "      <th>childnotathome</th>\n",
              "      <th>wageincome</th>\n",
              "      <th>weeklyhrscomputer</th>\n",
              "      <th>...</th>\n",
              "      <th>colenrfeb13</th>\n",
              "      <th>colenroct13</th>\n",
              "      <th>colenrfeb14</th>\n",
              "      <th>colenroct14</th>\n",
              "      <th>colenrfeb15</th>\n",
              "      <th>colenroct15</th>\n",
              "      <th>colenrfeb16</th>\n",
              "      <th>colenroct16</th>\n",
              "      <th>colenrfeb17</th>\n",
              "      <th>colenroct17</th>\n",
              "    </tr>\n",
              "  </thead>\n",
              "  <tbody>\n",
              "    <tr>\n",
              "      <th>0</th>\n",
              "      <td>100061</td>\n",
              "      <td>Female</td>\n",
              "      <td>5</td>\n",
              "      <td>1980</td>\n",
              "      <td>13.0</td>\n",
              "      <td>Married</td>\n",
              "      <td>4.0</td>\n",
              "      <td>0.0</td>\n",
              "      <td>12500.0</td>\n",
              "      <td>10 hours or more a week</td>\n",
              "      <td>...</td>\n",
              "      <td>1. Not enrolled</td>\n",
              "      <td>1. Not enrolled</td>\n",
              "      <td>1. Not enrolled</td>\n",
              "      <td>1. Not enrolled</td>\n",
              "      <td>1. Not enrolled</td>\n",
              "      <td>1. Not enrolled</td>\n",
              "      <td>1. Not enrolled</td>\n",
              "      <td>1. Not enrolled</td>\n",
              "      <td>1. Not enrolled</td>\n",
              "      <td>1. Not enrolled</td>\n",
              "    </tr>\n",
              "    <tr>\n",
              "      <th>1</th>\n",
              "      <td>100139</td>\n",
              "      <td>Male</td>\n",
              "      <td>9</td>\n",
              "      <td>1983</td>\n",
              "      <td>12.0</td>\n",
              "      <td>Married</td>\n",
              "      <td>2.0</td>\n",
              "      <td>0.0</td>\n",
              "      <td>120000.0</td>\n",
              "      <td>1 to 3 hours a week</td>\n",
              "      <td>...</td>\n",
              "      <td>1. Not enrolled</td>\n",
              "      <td>1. Not enrolled</td>\n",
              "      <td>1. Not enrolled</td>\n",
              "      <td>1. Not enrolled</td>\n",
              "      <td>1. Not enrolled</td>\n",
              "      <td>1. Not enrolled</td>\n",
              "      <td>1. Not enrolled</td>\n",
              "      <td>1. Not enrolled</td>\n",
              "      <td>1. Not enrolled</td>\n",
              "      <td>1. Not enrolled</td>\n",
              "    </tr>\n",
              "    <tr>\n",
              "      <th>2</th>\n",
              "      <td>100284</td>\n",
              "      <td>Male</td>\n",
              "      <td>11</td>\n",
              "      <td>1984</td>\n",
              "      <td>7.0</td>\n",
              "      <td>Never-married</td>\n",
              "      <td>1.0</td>\n",
              "      <td>0.0</td>\n",
              "      <td>58000.0</td>\n",
              "      <td>NaN</td>\n",
              "      <td>...</td>\n",
              "      <td>1. Not enrolled</td>\n",
              "      <td>1. Not enrolled</td>\n",
              "      <td>1. Not enrolled</td>\n",
              "      <td>1. Not enrolled</td>\n",
              "      <td>1. Not enrolled</td>\n",
              "      <td>1. Not enrolled</td>\n",
              "      <td>1. Not enrolled</td>\n",
              "      <td>1. Not enrolled</td>\n",
              "      <td>1. Not enrolled</td>\n",
              "      <td>1. Not enrolled</td>\n",
              "    </tr>\n",
              "    <tr>\n",
              "      <th>3</th>\n",
              "      <td>100292</td>\n",
              "      <td>Male</td>\n",
              "      <td>4</td>\n",
              "      <td>1982</td>\n",
              "      <td>NaN</td>\n",
              "      <td>NaN</td>\n",
              "      <td>NaN</td>\n",
              "      <td>NaN</td>\n",
              "      <td>NaN</td>\n",
              "      <td>NaN</td>\n",
              "      <td>...</td>\n",
              "      <td>1. Not enrolled</td>\n",
              "      <td>1. Not enrolled</td>\n",
              "      <td>1. Not enrolled</td>\n",
              "      <td>1. Not enrolled</td>\n",
              "      <td>1. Not enrolled</td>\n",
              "      <td>1. Not enrolled</td>\n",
              "      <td>NaN</td>\n",
              "      <td>NaN</td>\n",
              "      <td>NaN</td>\n",
              "      <td>NaN</td>\n",
              "    </tr>\n",
              "    <tr>\n",
              "      <th>4</th>\n",
              "      <td>100583</td>\n",
              "      <td>Male</td>\n",
              "      <td>1</td>\n",
              "      <td>1980</td>\n",
              "      <td>13.0</td>\n",
              "      <td>Married</td>\n",
              "      <td>4.0</td>\n",
              "      <td>0.0</td>\n",
              "      <td>30000.0</td>\n",
              "      <td>Less than 1 hour a week</td>\n",
              "      <td>...</td>\n",
              "      <td>1. Not enrolled</td>\n",
              "      <td>1. Not enrolled</td>\n",
              "      <td>1. Not enrolled</td>\n",
              "      <td>1. Not enrolled</td>\n",
              "      <td>1. Not enrolled</td>\n",
              "      <td>1. Not enrolled</td>\n",
              "      <td>1. Not enrolled</td>\n",
              "      <td>1. Not enrolled</td>\n",
              "      <td>1. Not enrolled</td>\n",
              "      <td>1. Not enrolled</td>\n",
              "    </tr>\n",
              "    <tr>\n",
              "      <th>...</th>\n",
              "      <td>...</td>\n",
              "      <td>...</td>\n",
              "      <td>...</td>\n",
              "      <td>...</td>\n",
              "      <td>...</td>\n",
              "      <td>...</td>\n",
              "      <td>...</td>\n",
              "      <td>...</td>\n",
              "      <td>...</td>\n",
              "      <td>...</td>\n",
              "      <td>...</td>\n",
              "      <td>...</td>\n",
              "      <td>...</td>\n",
              "      <td>...</td>\n",
              "      <td>...</td>\n",
              "      <td>...</td>\n",
              "      <td>...</td>\n",
              "      <td>...</td>\n",
              "      <td>...</td>\n",
              "      <td>...</td>\n",
              "      <td>...</td>\n",
              "    </tr>\n",
              "    <tr>\n",
              "      <th>8979</th>\n",
              "      <td>999291</td>\n",
              "      <td>Female</td>\n",
              "      <td>4</td>\n",
              "      <td>1981</td>\n",
              "      <td>16.0</td>\n",
              "      <td>Married</td>\n",
              "      <td>NaN</td>\n",
              "      <td>NaN</td>\n",
              "      <td>35000.0</td>\n",
              "      <td>7 to 9 hours a week</td>\n",
              "      <td>...</td>\n",
              "      <td>1. Not enrolled</td>\n",
              "      <td>1. Not enrolled</td>\n",
              "      <td>1. Not enrolled</td>\n",
              "      <td>1. Not enrolled</td>\n",
              "      <td>1. Not enrolled</td>\n",
              "      <td>1. Not enrolled</td>\n",
              "      <td>1. Not enrolled</td>\n",
              "      <td>1. Not enrolled</td>\n",
              "      <td>1. Not enrolled</td>\n",
              "      <td>1. Not enrolled</td>\n",
              "    </tr>\n",
              "    <tr>\n",
              "      <th>8980</th>\n",
              "      <td>999406</td>\n",
              "      <td>Male</td>\n",
              "      <td>7</td>\n",
              "      <td>1982</td>\n",
              "      <td>14.0</td>\n",
              "      <td>Never-married</td>\n",
              "      <td>NaN</td>\n",
              "      <td>NaN</td>\n",
              "      <td>116000.0</td>\n",
              "      <td>4 to 6 hours a week</td>\n",
              "      <td>...</td>\n",
              "      <td>1. Not enrolled</td>\n",
              "      <td>1. Not enrolled</td>\n",
              "      <td>1. Not enrolled</td>\n",
              "      <td>1. Not enrolled</td>\n",
              "      <td>1. Not enrolled</td>\n",
              "      <td>1. Not enrolled</td>\n",
              "      <td>1. Not enrolled</td>\n",
              "      <td>1. Not enrolled</td>\n",
              "      <td>1. Not enrolled</td>\n",
              "      <td>1. Not enrolled</td>\n",
              "    </tr>\n",
              "    <tr>\n",
              "      <th>8981</th>\n",
              "      <td>999543</td>\n",
              "      <td>Female</td>\n",
              "      <td>8</td>\n",
              "      <td>1984</td>\n",
              "      <td>12.0</td>\n",
              "      <td>Divorced</td>\n",
              "      <td>2.0</td>\n",
              "      <td>0.0</td>\n",
              "      <td>NaN</td>\n",
              "      <td>NaN</td>\n",
              "      <td>...</td>\n",
              "      <td>1. Not enrolled</td>\n",
              "      <td>1. Not enrolled</td>\n",
              "      <td>1. Not enrolled</td>\n",
              "      <td>1. Not enrolled</td>\n",
              "      <td>1. Not enrolled</td>\n",
              "      <td>1. Not enrolled</td>\n",
              "      <td>1. Not enrolled</td>\n",
              "      <td>1. Not enrolled</td>\n",
              "      <td>1. Not enrolled</td>\n",
              "      <td>1. Not enrolled</td>\n",
              "    </tr>\n",
              "    <tr>\n",
              "      <th>8982</th>\n",
              "      <td>999698</td>\n",
              "      <td>Female</td>\n",
              "      <td>5</td>\n",
              "      <td>1983</td>\n",
              "      <td>12.0</td>\n",
              "      <td>Never-married</td>\n",
              "      <td>5.0</td>\n",
              "      <td>0.0</td>\n",
              "      <td>NaN</td>\n",
              "      <td>4 to 6 hours a week</td>\n",
              "      <td>...</td>\n",
              "      <td>1. Not enrolled</td>\n",
              "      <td>1. Not enrolled</td>\n",
              "      <td>1. Not enrolled</td>\n",
              "      <td>1. Not enrolled</td>\n",
              "      <td>1. Not enrolled</td>\n",
              "      <td>1. Not enrolled</td>\n",
              "      <td>1. Not enrolled</td>\n",
              "      <td>1. Not enrolled</td>\n",
              "      <td>1. Not enrolled</td>\n",
              "      <td>1. Not enrolled</td>\n",
              "    </tr>\n",
              "    <tr>\n",
              "      <th>8983</th>\n",
              "      <td>999963</td>\n",
              "      <td>Female</td>\n",
              "      <td>9</td>\n",
              "      <td>1982</td>\n",
              "      <td>17.0</td>\n",
              "      <td>Married</td>\n",
              "      <td>2.0</td>\n",
              "      <td>0.0</td>\n",
              "      <td>50000.0</td>\n",
              "      <td>4 to 6 hours a week</td>\n",
              "      <td>...</td>\n",
              "      <td>1. Not enrolled</td>\n",
              "      <td>1. Not enrolled</td>\n",
              "      <td>1. Not enrolled</td>\n",
              "      <td>1. Not enrolled</td>\n",
              "      <td>1. Not enrolled</td>\n",
              "      <td>1. Not enrolled</td>\n",
              "      <td>1. Not enrolled</td>\n",
              "      <td>1. Not enrolled</td>\n",
              "      <td>1. Not enrolled</td>\n",
              "      <td>1. Not enrolled</td>\n",
              "    </tr>\n",
              "  </tbody>\n",
              "</table>\n",
              "<p>8984 rows × 89 columns</p>\n",
              "</div>\n",
              "    <div class=\"colab-df-buttons\">\n",
              "\n",
              "  <div class=\"colab-df-container\">\n",
              "    <button class=\"colab-df-convert\" onclick=\"convertToInteractive('df-b2e8e214-c870-47f1-b75b-f39caed733e7')\"\n",
              "            title=\"Convert this dataframe to an interactive table.\"\n",
              "            style=\"display:none;\">\n",
              "\n",
              "  <svg xmlns=\"http://www.w3.org/2000/svg\" height=\"24px\" viewBox=\"0 -960 960 960\">\n",
              "    <path d=\"M120-120v-720h720v720H120Zm60-500h600v-160H180v160Zm220 220h160v-160H400v160Zm0 220h160v-160H400v160ZM180-400h160v-160H180v160Zm440 0h160v-160H620v160ZM180-180h160v-160H180v160Zm440 0h160v-160H620v160Z\"/>\n",
              "  </svg>\n",
              "    </button>\n",
              "\n",
              "  <style>\n",
              "    .colab-df-container {\n",
              "      display:flex;\n",
              "      gap: 12px;\n",
              "    }\n",
              "\n",
              "    .colab-df-convert {\n",
              "      background-color: #E8F0FE;\n",
              "      border: none;\n",
              "      border-radius: 50%;\n",
              "      cursor: pointer;\n",
              "      display: none;\n",
              "      fill: #1967D2;\n",
              "      height: 32px;\n",
              "      padding: 0 0 0 0;\n",
              "      width: 32px;\n",
              "    }\n",
              "\n",
              "    .colab-df-convert:hover {\n",
              "      background-color: #E2EBFA;\n",
              "      box-shadow: 0px 1px 2px rgba(60, 64, 67, 0.3), 0px 1px 3px 1px rgba(60, 64, 67, 0.15);\n",
              "      fill: #174EA6;\n",
              "    }\n",
              "\n",
              "    .colab-df-buttons div {\n",
              "      margin-bottom: 4px;\n",
              "    }\n",
              "\n",
              "    [theme=dark] .colab-df-convert {\n",
              "      background-color: #3B4455;\n",
              "      fill: #D2E3FC;\n",
              "    }\n",
              "\n",
              "    [theme=dark] .colab-df-convert:hover {\n",
              "      background-color: #434B5C;\n",
              "      box-shadow: 0px 1px 3px 1px rgba(0, 0, 0, 0.15);\n",
              "      filter: drop-shadow(0px 1px 2px rgba(0, 0, 0, 0.3));\n",
              "      fill: #FFFFFF;\n",
              "    }\n",
              "  </style>\n",
              "\n",
              "    <script>\n",
              "      const buttonEl =\n",
              "        document.querySelector('#df-b2e8e214-c870-47f1-b75b-f39caed733e7 button.colab-df-convert');\n",
              "      buttonEl.style.display =\n",
              "        google.colab.kernel.accessAllowed ? 'block' : 'none';\n",
              "\n",
              "      async function convertToInteractive(key) {\n",
              "        const element = document.querySelector('#df-b2e8e214-c870-47f1-b75b-f39caed733e7');\n",
              "        const dataTable =\n",
              "          await google.colab.kernel.invokeFunction('convertToInteractive',\n",
              "                                                    [key], {});\n",
              "        if (!dataTable) return;\n",
              "\n",
              "        const docLinkHtml = 'Like what you see? Visit the ' +\n",
              "          '<a target=\"_blank\" href=https://colab.research.google.com/notebooks/data_table.ipynb>data table notebook</a>'\n",
              "          + ' to learn more about interactive tables.';\n",
              "        element.innerHTML = '';\n",
              "        dataTable['output_type'] = 'display_data';\n",
              "        await google.colab.output.renderOutput(dataTable, element);\n",
              "        const docLink = document.createElement('div');\n",
              "        docLink.innerHTML = docLinkHtml;\n",
              "        element.appendChild(docLink);\n",
              "      }\n",
              "    </script>\n",
              "  </div>\n",
              "\n",
              "\n",
              "    <div id=\"df-fb9a6b76-c429-4426-a11b-f291918c419d\">\n",
              "      <button class=\"colab-df-quickchart\" onclick=\"quickchart('df-fb9a6b76-c429-4426-a11b-f291918c419d')\"\n",
              "                title=\"Suggest charts\"\n",
              "                style=\"display:none;\">\n",
              "\n",
              "<svg xmlns=\"http://www.w3.org/2000/svg\" height=\"24px\"viewBox=\"0 0 24 24\"\n",
              "     width=\"24px\">\n",
              "    <g>\n",
              "        <path d=\"M19 3H5c-1.1 0-2 .9-2 2v14c0 1.1.9 2 2 2h14c1.1 0 2-.9 2-2V5c0-1.1-.9-2-2-2zM9 17H7v-7h2v7zm4 0h-2V7h2v10zm4 0h-2v-4h2v4z\"/>\n",
              "    </g>\n",
              "</svg>\n",
              "      </button>\n",
              "\n",
              "<style>\n",
              "  .colab-df-quickchart {\n",
              "      --bg-color: #E8F0FE;\n",
              "      --fill-color: #1967D2;\n",
              "      --hover-bg-color: #E2EBFA;\n",
              "      --hover-fill-color: #174EA6;\n",
              "      --disabled-fill-color: #AAA;\n",
              "      --disabled-bg-color: #DDD;\n",
              "  }\n",
              "\n",
              "  [theme=dark] .colab-df-quickchart {\n",
              "      --bg-color: #3B4455;\n",
              "      --fill-color: #D2E3FC;\n",
              "      --hover-bg-color: #434B5C;\n",
              "      --hover-fill-color: #FFFFFF;\n",
              "      --disabled-bg-color: #3B4455;\n",
              "      --disabled-fill-color: #666;\n",
              "  }\n",
              "\n",
              "  .colab-df-quickchart {\n",
              "    background-color: var(--bg-color);\n",
              "    border: none;\n",
              "    border-radius: 50%;\n",
              "    cursor: pointer;\n",
              "    display: none;\n",
              "    fill: var(--fill-color);\n",
              "    height: 32px;\n",
              "    padding: 0;\n",
              "    width: 32px;\n",
              "  }\n",
              "\n",
              "  .colab-df-quickchart:hover {\n",
              "    background-color: var(--hover-bg-color);\n",
              "    box-shadow: 0 1px 2px rgba(60, 64, 67, 0.3), 0 1px 3px 1px rgba(60, 64, 67, 0.15);\n",
              "    fill: var(--button-hover-fill-color);\n",
              "  }\n",
              "\n",
              "  .colab-df-quickchart-complete:disabled,\n",
              "  .colab-df-quickchart-complete:disabled:hover {\n",
              "    background-color: var(--disabled-bg-color);\n",
              "    fill: var(--disabled-fill-color);\n",
              "    box-shadow: none;\n",
              "  }\n",
              "\n",
              "  .colab-df-spinner {\n",
              "    border: 2px solid var(--fill-color);\n",
              "    border-color: transparent;\n",
              "    border-bottom-color: var(--fill-color);\n",
              "    animation:\n",
              "      spin 1s steps(1) infinite;\n",
              "  }\n",
              "\n",
              "  @keyframes spin {\n",
              "    0% {\n",
              "      border-color: transparent;\n",
              "      border-bottom-color: var(--fill-color);\n",
              "      border-left-color: var(--fill-color);\n",
              "    }\n",
              "    20% {\n",
              "      border-color: transparent;\n",
              "      border-left-color: var(--fill-color);\n",
              "      border-top-color: var(--fill-color);\n",
              "    }\n",
              "    30% {\n",
              "      border-color: transparent;\n",
              "      border-left-color: var(--fill-color);\n",
              "      border-top-color: var(--fill-color);\n",
              "      border-right-color: var(--fill-color);\n",
              "    }\n",
              "    40% {\n",
              "      border-color: transparent;\n",
              "      border-right-color: var(--fill-color);\n",
              "      border-top-color: var(--fill-color);\n",
              "    }\n",
              "    60% {\n",
              "      border-color: transparent;\n",
              "      border-right-color: var(--fill-color);\n",
              "    }\n",
              "    80% {\n",
              "      border-color: transparent;\n",
              "      border-right-color: var(--fill-color);\n",
              "      border-bottom-color: var(--fill-color);\n",
              "    }\n",
              "    90% {\n",
              "      border-color: transparent;\n",
              "      border-bottom-color: var(--fill-color);\n",
              "    }\n",
              "  }\n",
              "</style>\n",
              "\n",
              "      <script>\n",
              "        async function quickchart(key) {\n",
              "          const quickchartButtonEl =\n",
              "            document.querySelector('#' + key + ' button');\n",
              "          quickchartButtonEl.disabled = true;  // To prevent multiple clicks.\n",
              "          quickchartButtonEl.classList.add('colab-df-spinner');\n",
              "          try {\n",
              "            const charts = await google.colab.kernel.invokeFunction(\n",
              "                'suggestCharts', [key], {});\n",
              "          } catch (error) {\n",
              "            console.error('Error during call to suggestCharts:', error);\n",
              "          }\n",
              "          quickchartButtonEl.classList.remove('colab-df-spinner');\n",
              "          quickchartButtonEl.classList.add('colab-df-quickchart-complete');\n",
              "        }\n",
              "        (() => {\n",
              "          let quickchartButtonEl =\n",
              "            document.querySelector('#df-fb9a6b76-c429-4426-a11b-f291918c419d button');\n",
              "          quickchartButtonEl.style.display =\n",
              "            google.colab.kernel.accessAllowed ? 'block' : 'none';\n",
              "        })();\n",
              "      </script>\n",
              "    </div>\n",
              "\n",
              "  <div id=\"id_3ebeb7dc-05f2-49bd-9f49-50e93b19a3be\">\n",
              "    <style>\n",
              "      .colab-df-generate {\n",
              "        background-color: #E8F0FE;\n",
              "        border: none;\n",
              "        border-radius: 50%;\n",
              "        cursor: pointer;\n",
              "        display: none;\n",
              "        fill: #1967D2;\n",
              "        height: 32px;\n",
              "        padding: 0 0 0 0;\n",
              "        width: 32px;\n",
              "      }\n",
              "\n",
              "      .colab-df-generate:hover {\n",
              "        background-color: #E2EBFA;\n",
              "        box-shadow: 0px 1px 2px rgba(60, 64, 67, 0.3), 0px 1px 3px 1px rgba(60, 64, 67, 0.15);\n",
              "        fill: #174EA6;\n",
              "      }\n",
              "\n",
              "      [theme=dark] .colab-df-generate {\n",
              "        background-color: #3B4455;\n",
              "        fill: #D2E3FC;\n",
              "      }\n",
              "\n",
              "      [theme=dark] .colab-df-generate:hover {\n",
              "        background-color: #434B5C;\n",
              "        box-shadow: 0px 1px 3px 1px rgba(0, 0, 0, 0.15);\n",
              "        filter: drop-shadow(0px 1px 2px rgba(0, 0, 0, 0.3));\n",
              "        fill: #FFFFFF;\n",
              "      }\n",
              "    </style>\n",
              "    <button class=\"colab-df-generate\" onclick=\"generateWithVariable('df')\"\n",
              "            title=\"Generate code using this dataframe.\"\n",
              "            style=\"display:none;\">\n",
              "\n",
              "  <svg xmlns=\"http://www.w3.org/2000/svg\" height=\"24px\"viewBox=\"0 0 24 24\"\n",
              "       width=\"24px\">\n",
              "    <path d=\"M7,19H8.4L18.45,9,17,7.55,7,17.6ZM5,21V16.75L18.45,3.32a2,2,0,0,1,2.83,0l1.4,1.43a1.91,1.91,0,0,1,.58,1.4,1.91,1.91,0,0,1-.58,1.4L9.25,21ZM18.45,9,17,7.55Zm-12,3A5.31,5.31,0,0,0,4.9,8.1,5.31,5.31,0,0,0,1,6.5,5.31,5.31,0,0,0,4.9,4.9,5.31,5.31,0,0,0,6.5,1,5.31,5.31,0,0,0,8.1,4.9,5.31,5.31,0,0,0,12,6.5,5.46,5.46,0,0,0,6.5,12Z\"/>\n",
              "  </svg>\n",
              "    </button>\n",
              "    <script>\n",
              "      (() => {\n",
              "      const buttonEl =\n",
              "        document.querySelector('#id_3ebeb7dc-05f2-49bd-9f49-50e93b19a3be button.colab-df-generate');\n",
              "      buttonEl.style.display =\n",
              "        google.colab.kernel.accessAllowed ? 'block' : 'none';\n",
              "\n",
              "      buttonEl.onclick = () => {\n",
              "        google.colab.notebook.generateWithVariable('df');\n",
              "      }\n",
              "      })();\n",
              "    </script>\n",
              "  </div>\n",
              "\n",
              "    </div>\n",
              "  </div>\n"
            ],
            "application/vnd.google.colaboratory.intrinsic+json": {
              "type": "dataframe",
              "variable_name": "df"
            }
          },
          "metadata": {},
          "execution_count": 2
        }
      ]
    },
    {
      "cell_type": "markdown",
      "source": [
        "## Ejercicio 01: Errores Tipográficos y Valores Inconsistentes: maritalstatus"
      ],
      "metadata": {
        "id": "lSNc_8Pk5Bqc"
      }
    },
    {
      "cell_type": "code",
      "source": [
        "# Imprime de la columna 'maritalstatus' los valores únicos.\n",
        "print(df['maritalstatus'].unique())"
      ],
      "metadata": {
        "colab": {
          "base_uri": "https://localhost:8080/"
        },
        "id": "vQhKNTnE47qz",
        "outputId": "ea67797b-586d-41ba-c936-985b07f52603"
      },
      "execution_count": 3,
      "outputs": [
        {
          "output_type": "stream",
          "name": "stdout",
          "text": [
            "['Married' 'Never-married' nan 'Divorced' 'Separated' 'Widowed']\n"
          ]
        }
      ]
    },
    {
      "cell_type": "code",
      "source": [
        "# Imprime la frecuencia de cada valor único\n",
        "df['maritalstatus'].value_counts()"
      ],
      "metadata": {
        "colab": {
          "base_uri": "https://localhost:8080/",
          "height": 272
        },
        "id": "BF1SI1kr5R1N",
        "outputId": "0621e492-637b-44a6-b4f6-cd6e480be487"
      },
      "execution_count": 4,
      "outputs": [
        {
          "output_type": "execute_result",
          "data": {
            "text/plain": [
              "maritalstatus\n",
              "Married          3066\n",
              "Never-married    2766\n",
              "Divorced          663\n",
              "Separated         154\n",
              "Widowed            23\n",
              "Name: count, dtype: int64"
            ],
            "text/html": [
              "<div>\n",
              "<style scoped>\n",
              "    .dataframe tbody tr th:only-of-type {\n",
              "        vertical-align: middle;\n",
              "    }\n",
              "\n",
              "    .dataframe tbody tr th {\n",
              "        vertical-align: top;\n",
              "    }\n",
              "\n",
              "    .dataframe thead th {\n",
              "        text-align: right;\n",
              "    }\n",
              "</style>\n",
              "<table border=\"1\" class=\"dataframe\">\n",
              "  <thead>\n",
              "    <tr style=\"text-align: right;\">\n",
              "      <th></th>\n",
              "      <th>count</th>\n",
              "    </tr>\n",
              "    <tr>\n",
              "      <th>maritalstatus</th>\n",
              "      <th></th>\n",
              "    </tr>\n",
              "  </thead>\n",
              "  <tbody>\n",
              "    <tr>\n",
              "      <th>Married</th>\n",
              "      <td>3066</td>\n",
              "    </tr>\n",
              "    <tr>\n",
              "      <th>Never-married</th>\n",
              "      <td>2766</td>\n",
              "    </tr>\n",
              "    <tr>\n",
              "      <th>Divorced</th>\n",
              "      <td>663</td>\n",
              "    </tr>\n",
              "    <tr>\n",
              "      <th>Separated</th>\n",
              "      <td>154</td>\n",
              "    </tr>\n",
              "    <tr>\n",
              "      <th>Widowed</th>\n",
              "      <td>23</td>\n",
              "    </tr>\n",
              "  </tbody>\n",
              "</table>\n",
              "</div><br><label><b>dtype:</b> int64</label>"
            ]
          },
          "metadata": {},
          "execution_count": 4
        }
      ]
    },
    {
      "cell_type": "code",
      "source": [
        "# Cambia el valor 'Never-Married' a 'Single'\n",
        "df['maritalstatus'] = df['maritalstatus'].replace('Never-married', 'Single')"
      ],
      "metadata": {
        "id": "Sx5o5ogD5dLr"
      },
      "execution_count": 5,
      "outputs": []
    },
    {
      "cell_type": "code",
      "source": [
        "# Imprime la frecuencia de cada valor único\n",
        "df['maritalstatus'].value_counts()"
      ],
      "metadata": {
        "colab": {
          "base_uri": "https://localhost:8080/",
          "height": 272
        },
        "id": "hvy3F6jg7NYx",
        "outputId": "d44178b6-00d7-427d-8a2b-8210add2a823"
      },
      "execution_count": 6,
      "outputs": [
        {
          "output_type": "execute_result",
          "data": {
            "text/plain": [
              "maritalstatus\n",
              "Married      3066\n",
              "Single       2766\n",
              "Divorced      663\n",
              "Separated     154\n",
              "Widowed        23\n",
              "Name: count, dtype: int64"
            ],
            "text/html": [
              "<div>\n",
              "<style scoped>\n",
              "    .dataframe tbody tr th:only-of-type {\n",
              "        vertical-align: middle;\n",
              "    }\n",
              "\n",
              "    .dataframe tbody tr th {\n",
              "        vertical-align: top;\n",
              "    }\n",
              "\n",
              "    .dataframe thead th {\n",
              "        text-align: right;\n",
              "    }\n",
              "</style>\n",
              "<table border=\"1\" class=\"dataframe\">\n",
              "  <thead>\n",
              "    <tr style=\"text-align: right;\">\n",
              "      <th></th>\n",
              "      <th>count</th>\n",
              "    </tr>\n",
              "    <tr>\n",
              "      <th>maritalstatus</th>\n",
              "      <th></th>\n",
              "    </tr>\n",
              "  </thead>\n",
              "  <tbody>\n",
              "    <tr>\n",
              "      <th>Married</th>\n",
              "      <td>3066</td>\n",
              "    </tr>\n",
              "    <tr>\n",
              "      <th>Single</th>\n",
              "      <td>2766</td>\n",
              "    </tr>\n",
              "    <tr>\n",
              "      <th>Divorced</th>\n",
              "      <td>663</td>\n",
              "    </tr>\n",
              "    <tr>\n",
              "      <th>Separated</th>\n",
              "      <td>154</td>\n",
              "    </tr>\n",
              "    <tr>\n",
              "      <th>Widowed</th>\n",
              "      <td>23</td>\n",
              "    </tr>\n",
              "  </tbody>\n",
              "</table>\n",
              "</div><br><label><b>dtype:</b> int64</label>"
            ]
          },
          "metadata": {},
          "execution_count": 6
        }
      ]
    },
    {
      "cell_type": "markdown",
      "source": [
        "## Ejercicio 02: Errores Tipográficos y Valores Inconsistentes: highestdegree."
      ],
      "metadata": {
        "id": "9qb1o6kI7i_U"
      }
    },
    {
      "cell_type": "code",
      "source": [
        "# Imprime de la columna 'highestdegrees' los valores únicos.\n",
        "print(df['highestdegree'].unique())"
      ],
      "metadata": {
        "colab": {
          "base_uri": "https://localhost:8080/"
        },
        "id": "QMZLDH6y7SxZ",
        "outputId": "82da80b8-bb36-4eec-8548-dcefb637ec0b"
      },
      "execution_count": 7,
      "outputs": [
        {
          "output_type": "stream",
          "name": "stdout",
          "text": [
            "['2. High School' '0. None' '4. Bachelors' '3. Associates' '5. Masters'\n",
            " '1. GED' '7. Professional' '6. PhD' nan]\n"
          ]
        }
      ]
    },
    {
      "cell_type": "code",
      "source": [
        "df['highestdegree'].value_counts()"
      ],
      "metadata": {
        "colab": {
          "base_uri": "https://localhost:8080/",
          "height": 366
        },
        "id": "QwuE4mqf7tP_",
        "outputId": "8daf7741-ac90-4b58-a6cb-59118a7703d8"
      },
      "execution_count": 8,
      "outputs": [
        {
          "output_type": "execute_result",
          "data": {
            "text/plain": [
              "highestdegree\n",
              "2. High School     3667\n",
              "4. Bachelors       1673\n",
              "1. GED             1146\n",
              "0. None             953\n",
              "3. Associates       737\n",
              "5. Masters          603\n",
              "7. Professional     120\n",
              "6. PhD               54\n",
              "Name: count, dtype: int64"
            ],
            "text/html": [
              "<div>\n",
              "<style scoped>\n",
              "    .dataframe tbody tr th:only-of-type {\n",
              "        vertical-align: middle;\n",
              "    }\n",
              "\n",
              "    .dataframe tbody tr th {\n",
              "        vertical-align: top;\n",
              "    }\n",
              "\n",
              "    .dataframe thead th {\n",
              "        text-align: right;\n",
              "    }\n",
              "</style>\n",
              "<table border=\"1\" class=\"dataframe\">\n",
              "  <thead>\n",
              "    <tr style=\"text-align: right;\">\n",
              "      <th></th>\n",
              "      <th>count</th>\n",
              "    </tr>\n",
              "    <tr>\n",
              "      <th>highestdegree</th>\n",
              "      <th></th>\n",
              "    </tr>\n",
              "  </thead>\n",
              "  <tbody>\n",
              "    <tr>\n",
              "      <th>2. High School</th>\n",
              "      <td>3667</td>\n",
              "    </tr>\n",
              "    <tr>\n",
              "      <th>4. Bachelors</th>\n",
              "      <td>1673</td>\n",
              "    </tr>\n",
              "    <tr>\n",
              "      <th>1. GED</th>\n",
              "      <td>1146</td>\n",
              "    </tr>\n",
              "    <tr>\n",
              "      <th>0. None</th>\n",
              "      <td>953</td>\n",
              "    </tr>\n",
              "    <tr>\n",
              "      <th>3. Associates</th>\n",
              "      <td>737</td>\n",
              "    </tr>\n",
              "    <tr>\n",
              "      <th>5. Masters</th>\n",
              "      <td>603</td>\n",
              "    </tr>\n",
              "    <tr>\n",
              "      <th>7. Professional</th>\n",
              "      <td>120</td>\n",
              "    </tr>\n",
              "    <tr>\n",
              "      <th>6. PhD</th>\n",
              "      <td>54</td>\n",
              "    </tr>\n",
              "  </tbody>\n",
              "</table>\n",
              "</div><br><label><b>dtype:</b> int64</label>"
            ]
          },
          "metadata": {},
          "execution_count": 8
        }
      ]
    },
    {
      "cell_type": "code",
      "source": [
        "# Modifica las categorías para que todas estén en minúsculas y ninguna empiece con un número\n",
        "df[\"highestdegree\"] = df[\"highestdegree\"].str.replace(r'[^a-zA-Z\\s]', '', regex=True).str.lower()"
      ],
      "metadata": {
        "id": "a4V8OmdB73eS"
      },
      "execution_count": 9,
      "outputs": []
    },
    {
      "cell_type": "code",
      "source": [
        "# Imprime los nuevos valores únicos\n",
        "df[\"highestdegree\"].value_counts()"
      ],
      "metadata": {
        "colab": {
          "base_uri": "https://localhost:8080/",
          "height": 366
        },
        "id": "hKZvgeMj8rrG",
        "outputId": "7420fa6c-627b-4045-a707-aefe41b86e00"
      },
      "execution_count": 10,
      "outputs": [
        {
          "output_type": "execute_result",
          "data": {
            "text/plain": [
              "highestdegree\n",
              "high school     3667\n",
              "bachelors       1673\n",
              "ged             1146\n",
              "none             953\n",
              "associates       737\n",
              "masters          603\n",
              "professional     120\n",
              "phd               54\n",
              "Name: count, dtype: int64"
            ],
            "text/html": [
              "<div>\n",
              "<style scoped>\n",
              "    .dataframe tbody tr th:only-of-type {\n",
              "        vertical-align: middle;\n",
              "    }\n",
              "\n",
              "    .dataframe tbody tr th {\n",
              "        vertical-align: top;\n",
              "    }\n",
              "\n",
              "    .dataframe thead th {\n",
              "        text-align: right;\n",
              "    }\n",
              "</style>\n",
              "<table border=\"1\" class=\"dataframe\">\n",
              "  <thead>\n",
              "    <tr style=\"text-align: right;\">\n",
              "      <th></th>\n",
              "      <th>count</th>\n",
              "    </tr>\n",
              "    <tr>\n",
              "      <th>highestdegree</th>\n",
              "      <th></th>\n",
              "    </tr>\n",
              "  </thead>\n",
              "  <tbody>\n",
              "    <tr>\n",
              "      <th>high school</th>\n",
              "      <td>3667</td>\n",
              "    </tr>\n",
              "    <tr>\n",
              "      <th>bachelors</th>\n",
              "      <td>1673</td>\n",
              "    </tr>\n",
              "    <tr>\n",
              "      <th>ged</th>\n",
              "      <td>1146</td>\n",
              "    </tr>\n",
              "    <tr>\n",
              "      <th>none</th>\n",
              "      <td>953</td>\n",
              "    </tr>\n",
              "    <tr>\n",
              "      <th>associates</th>\n",
              "      <td>737</td>\n",
              "    </tr>\n",
              "    <tr>\n",
              "      <th>masters</th>\n",
              "      <td>603</td>\n",
              "    </tr>\n",
              "    <tr>\n",
              "      <th>professional</th>\n",
              "      <td>120</td>\n",
              "    </tr>\n",
              "    <tr>\n",
              "      <th>phd</th>\n",
              "      <td>54</td>\n",
              "    </tr>\n",
              "  </tbody>\n",
              "</table>\n",
              "</div><br><label><b>dtype:</b> int64</label>"
            ]
          },
          "metadata": {},
          "execution_count": 10
        }
      ]
    },
    {
      "cell_type": "markdown",
      "source": [
        "## Ejercicio 03: Alta Cardinalidad - Frecuencias Bajas"
      ],
      "metadata": {
        "id": "W9IzKsry9Nxi"
      }
    },
    {
      "cell_type": "code",
      "source": [
        "# De la columna 'maritalstatus' une las categorías Widowed y 'Single' en una categoría más general llamada 'Single/No Partner'.\n",
        "# Crea una nueva columna, 'marital_grouped' donde aparezcan las nuevas categorías de maritalstatus.\n",
        "df['marital_grouped'] = df['maritalstatus'].apply(lambda x: 'Single/No Partner' if x in ['Widowed','Single'] else x)"
      ],
      "metadata": {
        "id": "Urzv_LE_8zCc"
      },
      "execution_count": 11,
      "outputs": []
    },
    {
      "cell_type": "code",
      "source": [
        "# Imprime los valores únicos de la nueva columna 'marital_grouped'.\n",
        "print(df['marital_grouped'].unique())"
      ],
      "metadata": {
        "colab": {
          "base_uri": "https://localhost:8080/"
        },
        "id": "qagE5EYEct4_",
        "outputId": "065a41dd-cc60-4128-a91b-c569d5ef28ba"
      },
      "execution_count": 12,
      "outputs": [
        {
          "output_type": "stream",
          "name": "stdout",
          "text": [
            "['Married' 'Single/No Partner' nan 'Divorced' 'Separated']\n"
          ]
        }
      ]
    },
    {
      "cell_type": "code",
      "source": [
        "# Imprime la frecuencia de los valores únicos de la nueva columna 'marital_grouped'\n",
        "df['marital_grouped'].value_counts()"
      ],
      "metadata": {
        "colab": {
          "base_uri": "https://localhost:8080/",
          "height": 241
        },
        "id": "jLaz_jo0dext",
        "outputId": "939d0c26-c0d2-4b30-f204-d3d1d5ea7819"
      },
      "execution_count": 13,
      "outputs": [
        {
          "output_type": "execute_result",
          "data": {
            "text/plain": [
              "marital_grouped\n",
              "Married              3066\n",
              "Single/No Partner    2789\n",
              "Divorced              663\n",
              "Separated             154\n",
              "Name: count, dtype: int64"
            ],
            "text/html": [
              "<div>\n",
              "<style scoped>\n",
              "    .dataframe tbody tr th:only-of-type {\n",
              "        vertical-align: middle;\n",
              "    }\n",
              "\n",
              "    .dataframe tbody tr th {\n",
              "        vertical-align: top;\n",
              "    }\n",
              "\n",
              "    .dataframe thead th {\n",
              "        text-align: right;\n",
              "    }\n",
              "</style>\n",
              "<table border=\"1\" class=\"dataframe\">\n",
              "  <thead>\n",
              "    <tr style=\"text-align: right;\">\n",
              "      <th></th>\n",
              "      <th>count</th>\n",
              "    </tr>\n",
              "    <tr>\n",
              "      <th>marital_grouped</th>\n",
              "      <th></th>\n",
              "    </tr>\n",
              "  </thead>\n",
              "  <tbody>\n",
              "    <tr>\n",
              "      <th>Married</th>\n",
              "      <td>3066</td>\n",
              "    </tr>\n",
              "    <tr>\n",
              "      <th>Single/No Partner</th>\n",
              "      <td>2789</td>\n",
              "    </tr>\n",
              "    <tr>\n",
              "      <th>Divorced</th>\n",
              "      <td>663</td>\n",
              "    </tr>\n",
              "    <tr>\n",
              "      <th>Separated</th>\n",
              "      <td>154</td>\n",
              "    </tr>\n",
              "  </tbody>\n",
              "</table>\n",
              "</div><br><label><b>dtype:</b> int64</label>"
            ]
          },
          "metadata": {},
          "execution_count": 13
        }
      ]
    },
    {
      "cell_type": "markdown",
      "source": [
        "## Ejercicio 04: Tipos de Datos"
      ],
      "metadata": {
        "id": "d2VQeCsNdtVA"
      }
    },
    {
      "cell_type": "code",
      "source": [
        "# Imprime el tipo de datos de la columna gender\n",
        "df['gender'].dtype"
      ],
      "metadata": {
        "colab": {
          "base_uri": "https://localhost:8080/"
        },
        "id": "Y3HBrw3Mdmcz",
        "outputId": "f7381fcb-4b17-4aa3-eded-0f0f82ca4dad"
      },
      "execution_count": 14,
      "outputs": [
        {
          "output_type": "execute_result",
          "data": {
            "text/plain": [
              "dtype('O')"
            ]
          },
          "metadata": {},
          "execution_count": 14
        }
      ]
    },
    {
      "cell_type": "code",
      "source": [
        "# Imprime la cantidad de bytes de dicha columna\n",
        "df[['gender']].memory_usage(deep=True)"
      ],
      "metadata": {
        "colab": {
          "base_uri": "https://localhost:8080/",
          "height": 147
        },
        "id": "zIzresGKdzwx",
        "outputId": "0e77b546-9008-4661-fc29-e1bc6e6b964b"
      },
      "execution_count": 15,
      "outputs": [
        {
          "output_type": "execute_result",
          "data": {
            "text/plain": [
              "Index        132\n",
              "gender    484922\n",
              "dtype: int64"
            ],
            "text/html": [
              "<div>\n",
              "<style scoped>\n",
              "    .dataframe tbody tr th:only-of-type {\n",
              "        vertical-align: middle;\n",
              "    }\n",
              "\n",
              "    .dataframe tbody tr th {\n",
              "        vertical-align: top;\n",
              "    }\n",
              "\n",
              "    .dataframe thead th {\n",
              "        text-align: right;\n",
              "    }\n",
              "</style>\n",
              "<table border=\"1\" class=\"dataframe\">\n",
              "  <thead>\n",
              "    <tr style=\"text-align: right;\">\n",
              "      <th></th>\n",
              "      <th>0</th>\n",
              "    </tr>\n",
              "  </thead>\n",
              "  <tbody>\n",
              "    <tr>\n",
              "      <th>Index</th>\n",
              "      <td>132</td>\n",
              "    </tr>\n",
              "    <tr>\n",
              "      <th>gender</th>\n",
              "      <td>484922</td>\n",
              "    </tr>\n",
              "  </tbody>\n",
              "</table>\n",
              "</div><br><label><b>dtype:</b> int64</label>"
            ]
          },
          "metadata": {},
          "execution_count": 15
        }
      ]
    },
    {
      "cell_type": "code",
      "source": [
        "print(df[['gender']].memory_usage(deep=True).sum())"
      ],
      "metadata": {
        "colab": {
          "base_uri": "https://localhost:8080/"
        },
        "id": "6M7RYgDBenD2",
        "outputId": "d2a4c8ad-3c94-4d04-fc65-c352f5c7cbcb"
      },
      "execution_count": 16,
      "outputs": [
        {
          "output_type": "stream",
          "name": "stdout",
          "text": [
            "485054\n"
          ]
        }
      ]
    },
    {
      "cell_type": "code",
      "source": [
        "# Si la columna es de tipo object, modifica a category.\n",
        "df['gender'] = df['gender'].astype(\"category\")"
      ],
      "metadata": {
        "id": "w1BnPsRvexJt"
      },
      "execution_count": 17,
      "outputs": []
    },
    {
      "cell_type": "code",
      "source": [
        "# En caso de haber realizado la modificación del tipo de datos,\n",
        "# imprime la cantidad de bytes que ocupa dicha columna con el nuevo tipo de datos\n",
        "df[['gender']].memory_usage(deep=True)"
      ],
      "metadata": {
        "colab": {
          "base_uri": "https://localhost:8080/",
          "height": 147
        },
        "id": "4D0AeAUifDaU",
        "outputId": "e1604b14-35f7-4d1e-fcd3-5e45d11a86ce"
      },
      "execution_count": 18,
      "outputs": [
        {
          "output_type": "execute_result",
          "data": {
            "text/plain": [
              "Index      132\n",
              "gender    9200\n",
              "dtype: int64"
            ],
            "text/html": [
              "<div>\n",
              "<style scoped>\n",
              "    .dataframe tbody tr th:only-of-type {\n",
              "        vertical-align: middle;\n",
              "    }\n",
              "\n",
              "    .dataframe tbody tr th {\n",
              "        vertical-align: top;\n",
              "    }\n",
              "\n",
              "    .dataframe thead th {\n",
              "        text-align: right;\n",
              "    }\n",
              "</style>\n",
              "<table border=\"1\" class=\"dataframe\">\n",
              "  <thead>\n",
              "    <tr style=\"text-align: right;\">\n",
              "      <th></th>\n",
              "      <th>0</th>\n",
              "    </tr>\n",
              "  </thead>\n",
              "  <tbody>\n",
              "    <tr>\n",
              "      <th>Index</th>\n",
              "      <td>132</td>\n",
              "    </tr>\n",
              "    <tr>\n",
              "      <th>gender</th>\n",
              "      <td>9200</td>\n",
              "    </tr>\n",
              "  </tbody>\n",
              "</table>\n",
              "</div><br><label><b>dtype:</b> int64</label>"
            ]
          },
          "metadata": {},
          "execution_count": 18
        }
      ]
    },
    {
      "cell_type": "code",
      "source": [
        "print(df[['gender']].memory_usage(deep=True).sum())"
      ],
      "metadata": {
        "colab": {
          "base_uri": "https://localhost:8080/"
        },
        "id": "V8uerDYYfS7p",
        "outputId": "d752593e-fb94-43dd-a9a4-5f34604bbdc0"
      },
      "execution_count": 19,
      "outputs": [
        {
          "output_type": "stream",
          "name": "stdout",
          "text": [
            "9332\n"
          ]
        }
      ]
    }
  ]
}