{
  "nbformat": 4,
  "nbformat_minor": 0,
  "metadata": {
    "colab": {
      "provenance": [],
      "authorship_tag": "ABX9TyOY7V9tEEG169JGpuTA/JtQ",
      "include_colab_link": true
    },
    "kernelspec": {
      "name": "python3",
      "display_name": "Python 3"
    },
    "language_info": {
      "name": "python"
    }
  },
  "cells": [
    {
      "cell_type": "markdown",
      "metadata": {
        "id": "view-in-github",
        "colab_type": "text"
      },
      "source": [
        "<a href=\"https://colab.research.google.com/github/GustavoHDLC1/Colab_Files_PADP/blob/main/Sem2_Practica3.ipynb\" target=\"_parent\"><img src=\"https://colab.research.google.com/assets/colab-badge.svg\" alt=\"Open In Colab\"/></a>"
      ]
    },
    {
      "cell_type": "markdown",
      "source": [
        "[Enlace GitHub](https://)"
      ],
      "metadata": {
        "id": "6xvcSpu9YEws"
      }
    },
    {
      "cell_type": "code",
      "execution_count": 1,
      "metadata": {
        "id": "YwvURtu8VwfB"
      },
      "outputs": [],
      "source": [
        "import numpy as np"
      ]
    },
    {
      "cell_type": "code",
      "source": [
        "# array unidimensional de 20 elementos con valores aleatorios entre 1 y 100\n",
        "arr = np.random.randint(1,101,20)"
      ],
      "metadata": {
        "id": "wvkLHZfBWG6g"
      },
      "execution_count": 2,
      "outputs": []
    },
    {
      "cell_type": "code",
      "source": [
        "print(arr)"
      ],
      "metadata": {
        "colab": {
          "base_uri": "https://localhost:8080/"
        },
        "id": "3_nL4suiXCsb",
        "outputId": "6fcea3ff-8b3a-4af6-cf70-cb07f6268dcd"
      },
      "execution_count": 5,
      "outputs": [
        {
          "output_type": "stream",
          "name": "stdout",
          "text": [
            "[ 23  21  60 100  74  11  85  58   4  80  69  64  48  24  74  11  18  18\n",
            "  67  39]\n"
          ]
        }
      ]
    },
    {
      "cell_type": "markdown",
      "source": [
        "## 1.- Valor Máximo del Arreglo"
      ],
      "metadata": {
        "id": "EPe5mwmiWsQC"
      }
    },
    {
      "cell_type": "code",
      "source": [
        "print(np.max(arr))"
      ],
      "metadata": {
        "colab": {
          "base_uri": "https://localhost:8080/"
        },
        "id": "5dn0FJ07WrxX",
        "outputId": "b937de67-6caa-47a4-ecbd-e5ffe8f28aa9"
      },
      "execution_count": 3,
      "outputs": [
        {
          "output_type": "stream",
          "name": "stdout",
          "text": [
            "100\n"
          ]
        }
      ]
    },
    {
      "cell_type": "markdown",
      "source": [
        "## 2.- Valor Mínimo del Arreglo"
      ],
      "metadata": {
        "id": "q4lJP3u0W48s"
      }
    },
    {
      "cell_type": "code",
      "source": [
        "print(np.min(arr))"
      ],
      "metadata": {
        "colab": {
          "base_uri": "https://localhost:8080/"
        },
        "id": "Fqk7uhtwW31K",
        "outputId": "23d41893-54ae-438f-ef43-8d162a3854eb"
      },
      "execution_count": 4,
      "outputs": [
        {
          "output_type": "stream",
          "name": "stdout",
          "text": [
            "4\n"
          ]
        }
      ]
    },
    {
      "cell_type": "markdown",
      "source": [
        "## 3.- Media del Arreglo"
      ],
      "metadata": {
        "id": "uYyt0ygpXNcs"
      }
    },
    {
      "cell_type": "code",
      "source": [
        "print(np.mean(arr))"
      ],
      "metadata": {
        "colab": {
          "base_uri": "https://localhost:8080/"
        },
        "id": "akNhls0zXBm6",
        "outputId": "10ac4eae-1dd0-4db7-bfee-2f749889030f"
      },
      "execution_count": 6,
      "outputs": [
        {
          "output_type": "stream",
          "name": "stdout",
          "text": [
            "47.4\n"
          ]
        }
      ]
    },
    {
      "cell_type": "markdown",
      "source": [
        "## Suma una constante n = 10 a cada elemento"
      ],
      "metadata": {
        "id": "WG22YeGdXgee"
      }
    },
    {
      "cell_type": "code",
      "source": [
        "print(arr + 10)"
      ],
      "metadata": {
        "colab": {
          "base_uri": "https://localhost:8080/"
        },
        "id": "mjrOujc6XTpk",
        "outputId": "b6440aa6-a2a9-43f0-c660-0005b32af6a0"
      },
      "execution_count": 8,
      "outputs": [
        {
          "output_type": "stream",
          "name": "stdout",
          "text": [
            "[ 33  31  70 110  84  21  95  68  14  90  79  74  58  34  84  21  28  28\n",
            "  77  49]\n"
          ]
        }
      ]
    },
    {
      "cell_type": "code",
      "source": [],
      "metadata": {
        "id": "MbliVHWxXoXw"
      },
      "execution_count": null,
      "outputs": []
    }
  ]
}