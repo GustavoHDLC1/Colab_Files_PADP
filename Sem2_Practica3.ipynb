{
  "nbformat": 4,
  "nbformat_minor": 0,
  "metadata": {
    "colab": {
      "provenance": [],
      "authorship_tag": "ABX9TyMKzpCz7K5eGibhuSEDgX67",
      "include_colab_link": true
    },
    "kernelspec": {
      "name": "python3",
      "display_name": "Python 3"
    },
    "language_info": {
      "name": "python"
    }
  },
  "cells": [
    {
      "cell_type": "markdown",
      "metadata": {
        "id": "view-in-github",
        "colab_type": "text"
      },
      "source": [
        "<a href=\"https://colab.research.google.com/github/GustavoHDLC1/Colab_Files_PADP/blob/main/Sem2_Practica3.ipynb\" target=\"_parent\"><img src=\"https://colab.research.google.com/assets/colab-badge.svg\" alt=\"Open In Colab\"/></a>"
      ]
    },
    {
      "cell_type": "markdown",
      "source": [
        "[Enlace GitHub](https://github.com/GustavoHDLC1/Colab_Files_PADP/blob/main/Sem2_Practica3.ipynb)"
      ],
      "metadata": {
        "id": "6xvcSpu9YEws"
      }
    },
    {
      "cell_type": "code",
      "execution_count": 1,
      "metadata": {
        "id": "YwvURtu8VwfB"
      },
      "outputs": [],
      "source": [
        "import numpy as np"
      ]
    },
    {
      "cell_type": "code",
      "source": [
        "# array unidimensional de 20 elementos con valores aleatorios entre 1 y 100\n",
        "arr = np.random.randint(1,101,20)"
      ],
      "metadata": {
        "id": "wvkLHZfBWG6g"
      },
      "execution_count": 2,
      "outputs": []
    },
    {
      "cell_type": "code",
      "source": [
        "print(arr)"
      ],
      "metadata": {
        "colab": {
          "base_uri": "https://localhost:8080/"
        },
        "id": "3_nL4suiXCsb",
        "outputId": "47093307-ae93-4504-addc-a03dc06d6e4b"
      },
      "execution_count": 3,
      "outputs": [
        {
          "output_type": "stream",
          "name": "stdout",
          "text": [
            "[ 19  51  28  33  70  33  76  27  80  52  45  62  30   1  22  84  26  48\n",
            " 100  38]\n"
          ]
        }
      ]
    },
    {
      "cell_type": "markdown",
      "source": [
        "## 1.- Valor Máximo del Arreglo"
      ],
      "metadata": {
        "id": "EPe5mwmiWsQC"
      }
    },
    {
      "cell_type": "code",
      "source": [
        "print(np.max(arr))"
      ],
      "metadata": {
        "colab": {
          "base_uri": "https://localhost:8080/"
        },
        "id": "5dn0FJ07WrxX",
        "outputId": "704531bb-dbbb-41b8-c784-17a3775db1fc"
      },
      "execution_count": 4,
      "outputs": [
        {
          "output_type": "stream",
          "name": "stdout",
          "text": [
            "100\n"
          ]
        }
      ]
    },
    {
      "cell_type": "markdown",
      "source": [
        "## 2.- Valor Mínimo del Arreglo"
      ],
      "metadata": {
        "id": "q4lJP3u0W48s"
      }
    },
    {
      "cell_type": "code",
      "source": [
        "print(np.min(arr))"
      ],
      "metadata": {
        "colab": {
          "base_uri": "https://localhost:8080/"
        },
        "id": "Fqk7uhtwW31K",
        "outputId": "389c03d1-0e66-4be8-eb4c-5def96f13219"
      },
      "execution_count": 5,
      "outputs": [
        {
          "output_type": "stream",
          "name": "stdout",
          "text": [
            "1\n"
          ]
        }
      ]
    },
    {
      "cell_type": "markdown",
      "source": [
        "## 3.- Media del Arreglo"
      ],
      "metadata": {
        "id": "uYyt0ygpXNcs"
      }
    },
    {
      "cell_type": "code",
      "source": [
        "print(np.mean(arr))"
      ],
      "metadata": {
        "colab": {
          "base_uri": "https://localhost:8080/"
        },
        "id": "akNhls0zXBm6",
        "outputId": "101ba12f-d39f-4b50-bd8a-8ea001037aa2"
      },
      "execution_count": 6,
      "outputs": [
        {
          "output_type": "stream",
          "name": "stdout",
          "text": [
            "46.25\n"
          ]
        }
      ]
    },
    {
      "cell_type": "markdown",
      "source": [
        "## Suma una constante n = 10 a cada elemento"
      ],
      "metadata": {
        "id": "WG22YeGdXgee"
      }
    },
    {
      "cell_type": "code",
      "source": [
        "print(arr + 10)"
      ],
      "metadata": {
        "colab": {
          "base_uri": "https://localhost:8080/"
        },
        "id": "mjrOujc6XTpk",
        "outputId": "c9dfed09-8896-4927-fd6d-5e0bf9d77437"
      },
      "execution_count": 7,
      "outputs": [
        {
          "output_type": "stream",
          "name": "stdout",
          "text": [
            "[ 29  61  38  43  80  43  86  37  90  62  55  72  40  11  32  94  36  58\n",
            " 110  48]\n"
          ]
        }
      ]
    },
    {
      "cell_type": "code",
      "source": [],
      "metadata": {
        "id": "MbliVHWxXoXw"
      },
      "execution_count": null,
      "outputs": []
    }
  ]
}