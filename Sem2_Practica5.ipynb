{
  "nbformat": 4,
  "nbformat_minor": 0,
  "metadata": {
    "colab": {
      "provenance": [],
      "authorship_tag": "ABX9TyMqf6iFqJTNnr1AUZBR9Dtz",
      "include_colab_link": true
    },
    "kernelspec": {
      "name": "python3",
      "display_name": "Python 3"
    },
    "language_info": {
      "name": "python"
    }
  },
  "cells": [
    {
      "cell_type": "markdown",
      "metadata": {
        "id": "view-in-github",
        "colab_type": "text"
      },
      "source": [
        "<a href=\"https://colab.research.google.com/github/GustavoHDLC1/Colab_Files_PADP/blob/main/Sem2_Practica5.ipynb\" target=\"_parent\"><img src=\"https://colab.research.google.com/assets/colab-badge.svg\" alt=\"Open In Colab\"/></a>"
      ]
    },
    {
      "cell_type": "markdown",
      "source": [
        "[Enlace GitHub](https://github.com/GustavoHDLC1/Colab_Files_PADP/blob/main/Sem2_Practica5.ipynb)"
      ],
      "metadata": {
        "id": "QXJZclijc47W"
      }
    },
    {
      "cell_type": "code",
      "execution_count": 1,
      "metadata": {
        "id": "kooCmnpnbXTq"
      },
      "outputs": [],
      "source": [
        "import numpy as np"
      ]
    },
    {
      "cell_type": "code",
      "source": [
        "arr = np.random.randint(1,51,15)\n",
        "print(arr)"
      ],
      "metadata": {
        "colab": {
          "base_uri": "https://localhost:8080/"
        },
        "id": "41VXXbQibe_z",
        "outputId": "ad39d2d5-854a-416e-f39f-674d8147f0e2"
      },
      "execution_count": 2,
      "outputs": [
        {
          "output_type": "stream",
          "name": "stdout",
          "text": [
            "[47 31 27 14 16  3 46 50 34  6 49  9  5 35 29]\n"
          ]
        }
      ]
    },
    {
      "cell_type": "markdown",
      "source": [
        "## 1.- Números mayores a 25 usando una máscara booleana"
      ],
      "metadata": {
        "id": "uFP5Ntm3cDbR"
      }
    },
    {
      "cell_type": "code",
      "source": [
        "mascara = arr > 25\n",
        "print(mascara)"
      ],
      "metadata": {
        "colab": {
          "base_uri": "https://localhost:8080/"
        },
        "id": "XZVKCCU-cBC5",
        "outputId": "f98a2213-a712-4511-db1d-ace271dc2133"
      },
      "execution_count": 3,
      "outputs": [
        {
          "output_type": "stream",
          "name": "stdout",
          "text": [
            "[ True  True  True False False False  True  True  True False  True False\n",
            " False  True  True]\n"
          ]
        }
      ]
    },
    {
      "cell_type": "markdown",
      "source": [
        "## 2.- Cuenta de elementos mayores a 25"
      ],
      "metadata": {
        "id": "zSFkZlbDcd1z"
      }
    },
    {
      "cell_type": "code",
      "source": [
        "print(mascara.sum())"
      ],
      "metadata": {
        "colab": {
          "base_uri": "https://localhost:8080/"
        },
        "id": "BBzMP8THcWaf",
        "outputId": "6fc4febe-96a0-4312-a2b9-d28c8bef6292"
      },
      "execution_count": 4,
      "outputs": [
        {
          "output_type": "stream",
          "name": "stdout",
          "text": [
            "9\n"
          ]
        }
      ]
    },
    {
      "cell_type": "code",
      "source": [],
      "metadata": {
        "id": "VPkcksGzcyZ5"
      },
      "execution_count": null,
      "outputs": []
    }
  ]
}