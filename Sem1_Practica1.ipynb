{
  "nbformat": 4,
  "nbformat_minor": 0,
  "metadata": {
    "colab": {
      "provenance": [],
      "mount_file_id": "https://github.com/GustavoHDLC1/Colab_Files_PADP/blob/main/Sem1_Practica1.ipynb",
      "authorship_tag": "ABX9TyMHljU/pCfnnOhe6lim7eSv",
      "include_colab_link": true
    },
    "kernelspec": {
      "name": "python3",
      "display_name": "Python 3"
    },
    "language_info": {
      "name": "python"
    }
  },
  "cells": [
    {
      "cell_type": "markdown",
      "metadata": {
        "id": "view-in-github",
        "colab_type": "text"
      },
      "source": [
        "<a href=\"https://colab.research.google.com/github/GustavoHDLC1/Colab_Files_PADP/blob/main/Sem1_Practica1.ipynb\" target=\"_parent\"><img src=\"https://colab.research.google.com/assets/colab-badge.svg\" alt=\"Open In Colab\"/></a>"
      ]
    },
    {
      "cell_type": "markdown",
      "source": [
        "NOTA: No se localizó el archivo mbox.txt por lo que se trabajó con el archivo mbox-short.txt \\\n",
        "[Enlace GitHub](https://github.com/GustavoHDLC1/Colab_Files_PADP/blob/main/Sem1_Practica1.ipynb)"
      ],
      "metadata": {
        "id": "c0PSy44v4lqw"
      }
    },
    {
      "cell_type": "code",
      "source": [
        "import re"
      ],
      "metadata": {
        "id": "7-Up6GzuypvK"
      },
      "execution_count": 1,
      "outputs": []
    },
    {
      "cell_type": "code",
      "source": [
        "# Abrir el archivo\n",
        "with open(\"/content/drive/MyDrive/MIAAD/PADP/mbox-short.txt\") as f:\n",
        "    lineas = f.readlines()"
      ],
      "metadata": {
        "id": "G00qVFAK0MXT"
      },
      "execution_count": 2,
      "outputs": []
    },
    {
      "cell_type": "code",
      "source": [
        "# Lista para guardar valores\n",
        "mediciones = []\n",
        "# Patrón a usar con expresiones regulares\n",
        "patron = r\"X-DSPAM-Confidence:\\s*([0-9.]+)\""
      ],
      "metadata": {
        "id": "oxgHquE-0Rz8"
      },
      "execution_count": 3,
      "outputs": []
    },
    {
      "cell_type": "code",
      "source": [
        "# Extraer los valores que cumplan la condición\n",
        "for linea in lineas:\n",
        "    coincidencia = re.search(patron, linea)\n",
        "    if coincidencia:\n",
        "        valor = float(coincidencia.group(1))\n",
        "        mediciones.append(valor)"
      ],
      "metadata": {
        "id": "eJ99z8dq0aHU"
      },
      "execution_count": 4,
      "outputs": []
    },
    {
      "cell_type": "code",
      "source": [
        "# Imprimimos los valores encontrados\n",
        "for linea in lineas:\n",
        "    if \"X-DSPAM-Confidence:\" in linea:\n",
        "      print(linea)"
      ],
      "metadata": {
        "colab": {
          "base_uri": "https://localhost:8080/"
        },
        "id": "z546kE-r1AMP",
        "outputId": "79763c23-bf41-4d2e-cebf-aa395a88de14"
      },
      "execution_count": 5,
      "outputs": [
        {
          "output_type": "stream",
          "name": "stdout",
          "text": [
            "X-DSPAM-Confidence: 0.8475\n",
            "\n",
            "X-DSPAM-Confidence: 0.6178\n",
            "\n",
            "X-DSPAM-Confidence: 0.6961\n",
            "\n",
            "X-DSPAM-Confidence: 0.7565\n",
            "\n",
            "X-DSPAM-Confidence: 0.7626\n",
            "\n",
            "X-DSPAM-Confidence: 0.7556\n",
            "\n",
            "X-DSPAM-Confidence: 0.7002\n",
            "\n",
            "X-DSPAM-Confidence: 0.7615\n",
            "\n",
            "X-DSPAM-Confidence: 0.7601\n",
            "\n",
            "X-DSPAM-Confidence: 0.7605\n",
            "\n",
            "X-DSPAM-Confidence: 0.6959\n",
            "\n",
            "X-DSPAM-Confidence: 0.7606\n",
            "\n",
            "X-DSPAM-Confidence: 0.7559\n",
            "\n",
            "X-DSPAM-Confidence: 0.7605\n",
            "\n",
            "X-DSPAM-Confidence: 0.6932\n",
            "\n",
            "X-DSPAM-Confidence: 0.7558\n",
            "\n",
            "X-DSPAM-Confidence: 0.6526\n",
            "\n",
            "X-DSPAM-Confidence: 0.6948\n",
            "\n",
            "X-DSPAM-Confidence: 0.6528\n",
            "\n",
            "X-DSPAM-Confidence: 0.7002\n",
            "\n",
            "X-DSPAM-Confidence: 0.7554\n",
            "\n",
            "X-DSPAM-Confidence: 0.6956\n",
            "\n",
            "X-DSPAM-Confidence: 0.6959\n",
            "\n",
            "X-DSPAM-Confidence: 0.7556\n",
            "\n",
            "X-DSPAM-Confidence: 0.9846\n",
            "\n",
            "X-DSPAM-Confidence: 0.8509\n",
            "\n",
            "X-DSPAM-Confidence: 0.9907\n",
            "\n"
          ]
        }
      ]
    },
    {
      "cell_type": "code",
      "source": [
        "# Calcular métricas\n",
        "cantidad = len(mediciones)\n",
        "suma = sum(mediciones)\n",
        "promedio = suma / cantidad\n",
        "varianza = sum((x - promedio) ** 2 for x in mediciones) / cantidad"
      ],
      "metadata": {
        "id": "lUxnZUsK0d33"
      },
      "execution_count": 6,
      "outputs": []
    },
    {
      "cell_type": "code",
      "source": [
        "# Mostrar resultados\n",
        "print(f\"Cantidad de datos extraídos: {cantidad}\")\n",
        "print(f\"Sumatoria: {suma}\")\n",
        "print(f\"Promedio: {promedio}\")\n",
        "print(f\"Varianza: {varianza}\")"
      ],
      "metadata": {
        "colab": {
          "base_uri": "https://localhost:8080/"
        },
        "id": "-qh2ysGH0gX7",
        "outputId": "dd789463-0504-4862-f721-665c8a50fb2c"
      },
      "execution_count": 7,
      "outputs": [
        {
          "output_type": "stream",
          "name": "stdout",
          "text": [
            "Cantidad de datos extraídos: 27\n",
            "Sumatoria: 20.269400000000005\n",
            "Promedio: 0.7507185185185187\n",
            "Varianza: 0.007145860027434843\n"
          ]
        }
      ]
    }
  ]
}