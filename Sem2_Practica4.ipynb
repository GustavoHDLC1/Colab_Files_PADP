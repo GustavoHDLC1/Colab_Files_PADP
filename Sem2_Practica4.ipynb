{
  "nbformat": 4,
  "nbformat_minor": 0,
  "metadata": {
    "colab": {
      "provenance": [],
      "authorship_tag": "ABX9TyOgHocsSzyr93K4FGa4qvLR",
      "include_colab_link": true
    },
    "kernelspec": {
      "name": "python3",
      "display_name": "Python 3"
    },
    "language_info": {
      "name": "python"
    }
  },
  "cells": [
    {
      "cell_type": "markdown",
      "metadata": {
        "id": "view-in-github",
        "colab_type": "text"
      },
      "source": [
        "<a href=\"https://colab.research.google.com/github/GustavoHDLC1/Colab_Files_PADP/blob/main/Sem2_Practica4.ipynb\" target=\"_parent\"><img src=\"https://colab.research.google.com/assets/colab-badge.svg\" alt=\"Open In Colab\"/></a>"
      ]
    },
    {
      "cell_type": "code",
      "execution_count": 1,
      "metadata": {
        "id": "8FH-lAS1ZOXH"
      },
      "outputs": [],
      "source": [
        "import numpy as np"
      ]
    },
    {
      "cell_type": "code",
      "source": [
        "A = np.random.randint(1,11,(3,3))\n",
        "B = np.random.randint(1,11,(3,3))\n",
        "print(A,'\\n')\n",
        "print(B)"
      ],
      "metadata": {
        "colab": {
          "base_uri": "https://localhost:8080/"
        },
        "id": "bQex987vZSeT",
        "outputId": "926cf0fb-7ff8-47d2-8cff-45cae179bace"
      },
      "execution_count": 2,
      "outputs": [
        {
          "output_type": "stream",
          "name": "stdout",
          "text": [
            "[[4 3 4]\n",
            " [3 8 9]\n",
            " [8 7 3]] \n",
            "\n",
            "[[ 8 10  4]\n",
            " [ 9  7  3]\n",
            " [ 9  1  5]]\n"
          ]
        }
      ]
    },
    {
      "cell_type": "markdown",
      "source": [
        "## 1.- Suma de Matrices"
      ],
      "metadata": {
        "id": "KOxzbzKpZtj8"
      }
    },
    {
      "cell_type": "code",
      "source": [
        "print(A+B)"
      ],
      "metadata": {
        "colab": {
          "base_uri": "https://localhost:8080/"
        },
        "id": "jQAlwI_gZqtq",
        "outputId": "e5f0af72-2cf7-44d2-c371-6c04c7a6c6c4"
      },
      "execution_count": 3,
      "outputs": [
        {
          "output_type": "stream",
          "name": "stdout",
          "text": [
            "[[12 13  8]\n",
            " [12 15 12]\n",
            " [17  8  8]]\n"
          ]
        }
      ]
    },
    {
      "cell_type": "markdown",
      "source": [
        "## 2.- Resta de Matrices A - B"
      ],
      "metadata": {
        "id": "ZtCkw7CkZ2nc"
      }
    },
    {
      "cell_type": "code",
      "source": [
        "print(A-B)"
      ],
      "metadata": {
        "colab": {
          "base_uri": "https://localhost:8080/"
        },
        "id": "EzNLZx6tZ1gU",
        "outputId": "e33e3515-849e-4c8a-c39d-a9a38a9743f1"
      },
      "execution_count": 4,
      "outputs": [
        {
          "output_type": "stream",
          "name": "stdout",
          "text": [
            "[[-4 -7  0]\n",
            " [-6  1  6]\n",
            " [-1  6 -2]]\n"
          ]
        }
      ]
    },
    {
      "cell_type": "markdown",
      "source": [
        "## 3.- Multiplicar matriz A por constante n = 2"
      ],
      "metadata": {
        "id": "u5j88uTSaHC8"
      }
    },
    {
      "cell_type": "code",
      "source": [
        "print(2*A)"
      ],
      "metadata": {
        "colab": {
          "base_uri": "https://localhost:8080/"
        },
        "id": "DqZyj2iAaBLs",
        "outputId": "d8c94cd9-274e-4c97-b1d3-fd2dd12c8095"
      },
      "execution_count": 5,
      "outputs": [
        {
          "output_type": "stream",
          "name": "stdout",
          "text": [
            "[[ 8  6  8]\n",
            " [ 6 16 18]\n",
            " [16 14  6]]\n"
          ]
        }
      ]
    },
    {
      "cell_type": "markdown",
      "source": [
        "## 4.- Multiplicación de Matrices"
      ],
      "metadata": {
        "id": "Qkxr0uv5aTmF"
      }
    },
    {
      "cell_type": "code",
      "source": [
        "print(np.dot(A,B))"
      ],
      "metadata": {
        "colab": {
          "base_uri": "https://localhost:8080/"
        },
        "id": "DnYO4pMraPem",
        "outputId": "6c07cf83-bd2e-4991-ec20-920b50b26e6a"
      },
      "execution_count": 6,
      "outputs": [
        {
          "output_type": "stream",
          "name": "stdout",
          "text": [
            "[[ 95  65  45]\n",
            " [177  95  81]\n",
            " [154 132  68]]\n"
          ]
        }
      ]
    }
  ]
}